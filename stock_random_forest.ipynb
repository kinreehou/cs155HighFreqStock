{
 "cells": [
  {
   "cell_type": "code",
   "execution_count": 19,
   "metadata": {},
   "outputs": [],
   "source": [
    "import numpy as np\n",
    "import csv\n",
    "import random\n",
    "from sklearn.tree import DecisionTreeClassifier\n",
    "from sklearn.ensemble import RandomForestRegressor\n",
    "from sklearn.preprocessing import StandardScaler\n",
    "import scipy\n",
    "from scipy.stats.stats import pearsonr\n",
    "from scipy import stats\n",
    "from matplotlib import pyplot as plt\n",
    "import pandas as pd"
   ]
  },
  {
   "cell_type": "code",
   "execution_count": 20,
   "metadata": {},
   "outputs": [],
   "source": [
    "batch_size=32\n",
    "all_data=pd.read_csv('./train.csv',dtype=np.float64)\n",
    "\n",
    "##replace NaN with column mean\n",
    "all_data.fillna(all_data.mean(),inplace = True) \n",
    "\n",
    "train_dataset = all_data.sample(frac=0.8, random_state=0)\n",
    "test_dataset = all_data.drop(train_dataset.index)\n",
    "\n",
    "Train = train_dataset.to_numpy()\n",
    "Test = test_dataset.to_numpy()"
   ]
  },
  {
   "cell_type": "code",
   "execution_count": 25,
   "metadata": {},
   "outputs": [
    {
     "name": "stdout",
     "output_type": "stream",
     "text": [
      "(118476, 26)\n"
     ]
    }
   ],
   "source": [
    "X_train = Train[:,1:-1]\n",
    "Y_train = Train[:,-1]\n",
    "\n",
    "X_test = Test[:,1:-1]\n",
    "Y_test = Test[:,-1]\n",
    "\n",
    "print(X_test.shape)"
   ]
  },
  {
   "cell_type": "code",
   "execution_count": 30,
   "metadata": {},
   "outputs": [
    {
     "data": {
      "text/plain": [
       "RandomForestRegressor(bootstrap=True, ccp_alpha=0.0, criterion='mse',\n",
       "                      max_depth=5, max_features='auto', max_leaf_nodes=None,\n",
       "                      max_samples=None, min_impurity_decrease=0.0,\n",
       "                      min_impurity_split=None, min_samples_leaf=1,\n",
       "                      min_samples_split=2, min_weight_fraction_leaf=0.0,\n",
       "                      n_estimators=100, n_jobs=None, oob_score=False,\n",
       "                      random_state=0, verbose=0, warm_start=False)"
      ]
     },
     "execution_count": 30,
     "metadata": {},
     "output_type": "execute_result"
    }
   ],
   "source": [
    "regr = RandomForestRegressor(max_depth=5, random_state=0)\n",
    "regr.fit(X_train, Y_train)"
   ]
  },
  {
   "cell_type": "code",
   "execution_count": 32,
   "metadata": {},
   "outputs": [
    {
     "name": "stdout",
     "output_type": "stream",
     "text": [
      "41195.0\n",
      "0.6522924474155103\n"
     ]
    }
   ],
   "source": [
    "loss = 0;\n",
    "correct = 0;\n",
    "\n",
    "#for i in range(len(Y_test)):\n",
    "    \n",
    "Y_out = regr.predict(X_test)\n",
    "\n",
    "Y_label = np.where(Y_out < 0.5, 0, 1)\n",
    "\n",
    "loss = np.sum(abs(Y_label-Y_test),axis = 0)\n",
    "    #if Y_out > 0.5:\n",
    "    #    Y_pred = 1\n",
    "    #else:\n",
    "    #    Y_pred = 0\n",
    "        \n",
    "    #if Y_pred == Y_test[i]:\n",
    "    #    correct += 1\n",
    "    \n",
    "    #loss += Y_test - Y_out\n",
    "\n",
    "print(loss)\n",
    "print(1-loss/len(Y_test))"
   ]
  },
  {
   "cell_type": "code",
   "execution_count": null,
   "metadata": {},
   "outputs": [],
   "source": []
  }
 ],
 "metadata": {
  "kernelspec": {
   "display_name": "Python 3",
   "language": "python",
   "name": "python3"
  },
  "language_info": {
   "codemirror_mode": {
    "name": "ipython",
    "version": 3
   },
   "file_extension": ".py",
   "mimetype": "text/x-python",
   "name": "python",
   "nbconvert_exporter": "python",
   "pygments_lexer": "ipython3",
   "version": "3.7.4"
  },
  "latex_envs": {
   "LaTeX_envs_menu_present": true,
   "autoclose": false,
   "autocomplete": true,
   "bibliofile": "biblio.bib",
   "cite_by": "apalike",
   "current_citInitial": 1,
   "eqLabelWithNumbers": true,
   "eqNumInitial": 1,
   "hotkeys": {
    "equation": "Ctrl-E",
    "itemize": "Ctrl-I"
   },
   "labels_anchors": false,
   "latex_user_defs": false,
   "report_style_numbering": false,
   "user_envs_cfg": false
  }
 },
 "nbformat": 4,
 "nbformat_minor": 4
}
